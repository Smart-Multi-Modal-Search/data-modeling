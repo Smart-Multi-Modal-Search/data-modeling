{
 "cells": [
  {
   "cell_type": "markdown",
   "id": "a84fba29-885b-4d74-9fd9-eb8079ed5438",
   "metadata": {},
   "source": [
    "CODE for deploying saved NER model\n"
   ]
  },
  {
   "cell_type": "code",
   "execution_count": 5,
   "id": "300c9e1b-8a5f-4197-be1f-46aecc35d109",
   "metadata": {},
   "outputs": [],
   "source": [
    "## TODO : make modification on the parse_query part to include \"near concept\" in the search \n",
    "## \n",
    "##"
   ]
  },
  {
   "cell_type": "code",
   "execution_count": 14,
   "id": "f5819cdc-bbd2-4da9-9b20-0078d8eeba94",
   "metadata": {},
   "outputs": [
    {
     "name": "stdout",
     "output_type": "stream",
     "text": [
      "Defaulting to user installation because normal site-packages is not writeable\n",
      "Requirement already satisfied: pip in /home/sridiyer/.local/lib/python3.6/site-packages (21.3.1)\n",
      "Requirement already satisfied: setuptools in /home/sridiyer/.local/lib/python3.6/site-packages (59.6.0)\n",
      "Requirement already satisfied: wheel in /home/sridiyer/.local/lib/python3.6/site-packages (0.37.1)\n",
      "Note: you may need to restart the kernel to use updated packages.\n"
     ]
    }
   ],
   "source": [
    "pip install -U pip setuptools wheel"
   ]
  },
  {
   "cell_type": "code",
   "execution_count": 15,
   "id": "e530f5df-6635-4164-ac40-a6061d151897",
   "metadata": {},
   "outputs": [
    {
     "name": "stdout",
     "output_type": "stream",
     "text": [
      "Defaulting to user installation because normal site-packages is not writeable\n",
      "Requirement already satisfied: spacy in /home/sridiyer/.local/lib/python3.6/site-packages (3.3.0)\n",
      "Requirement already satisfied: typer<0.5.0,>=0.3.0 in /home/sridiyer/.local/lib/python3.6/site-packages (from spacy) (0.4.1)\n",
      "Requirement already satisfied: preshed<3.1.0,>=3.0.2 in /home/sridiyer/.local/lib/python3.6/site-packages (from spacy) (3.0.6)\n",
      "Requirement already satisfied: langcodes<4.0.0,>=3.2.0 in /home/sridiyer/.local/lib/python3.6/site-packages (from spacy) (3.3.0)\n",
      "Requirement already satisfied: spacy-loggers<2.0.0,>=1.0.0 in /home/sridiyer/.local/lib/python3.6/site-packages (from spacy) (1.0.2)\n",
      "Requirement already satisfied: packaging>=20.0 in /usr/local/lib/python3.6/dist-packages (from spacy) (21.3)\n",
      "Requirement already satisfied: cymem<2.1.0,>=2.0.2 in /home/sridiyer/.local/lib/python3.6/site-packages (from spacy) (2.0.6)\n",
      "Requirement already satisfied: wasabi<1.1.0,>=0.9.1 in /home/sridiyer/.local/lib/python3.6/site-packages (from spacy) (0.9.1)\n",
      "Requirement already satisfied: requests<3.0.0,>=2.13.0 in /home/sridiyer/.local/lib/python3.6/site-packages (from spacy) (2.27.1)\n",
      "Requirement already satisfied: numpy>=1.15.0 in /home/sridiyer/.local/lib/python3.6/site-packages (from spacy) (1.19.5)\n",
      "Requirement already satisfied: srsly<3.0.0,>=2.4.3 in /home/sridiyer/.local/lib/python3.6/site-packages (from spacy) (2.4.3)\n",
      "Requirement already satisfied: setuptools in /home/sridiyer/.local/lib/python3.6/site-packages (from spacy) (59.6.0)\n",
      "Requirement already satisfied: catalogue<2.1.0,>=2.0.6 in /home/sridiyer/.local/lib/python3.6/site-packages (from spacy) (2.0.7)\n",
      "Requirement already satisfied: murmurhash<1.1.0,>=0.28.0 in /home/sridiyer/.local/lib/python3.6/site-packages (from spacy) (1.0.7)\n",
      "Requirement already satisfied: pathy>=0.3.5 in /home/sridiyer/.local/lib/python3.6/site-packages (from spacy) (0.6.1)\n",
      "Requirement already satisfied: spacy-legacy<3.1.0,>=3.0.9 in /home/sridiyer/.local/lib/python3.6/site-packages (from spacy) (3.0.9)\n",
      "Requirement already satisfied: typing-extensions<4.0.0.0,>=3.7.4 in /home/sridiyer/.local/lib/python3.6/site-packages (from spacy) (3.10.0.2)\n",
      "Requirement already satisfied: jinja2 in /usr/lib/python3/dist-packages (from spacy) (2.10)\n",
      "Requirement already satisfied: blis<0.8.0,>=0.4.0 in /home/sridiyer/.local/lib/python3.6/site-packages (from spacy) (0.7.7)\n",
      "Requirement already satisfied: thinc<8.1.0,>=8.0.14 in /home/sridiyer/.local/lib/python3.6/site-packages (from spacy) (8.0.16)\n",
      "Requirement already satisfied: pydantic!=1.8,!=1.8.1,<1.9.0,>=1.7.4 in /home/sridiyer/.local/lib/python3.6/site-packages (from spacy) (1.8.2)\n",
      "Requirement already satisfied: tqdm<5.0.0,>=4.38.0 in /home/sridiyer/.local/lib/python3.6/site-packages (from spacy) (4.64.0)\n",
      "Requirement already satisfied: zipp>=0.5 in /home/sridiyer/.local/lib/python3.6/site-packages (from catalogue<2.1.0,>=2.0.6->spacy) (3.6.0)\n",
      "Requirement already satisfied: pyparsing!=3.0.5,>=2.0.2 in /usr/local/lib/python3.6/dist-packages (from packaging>=20.0->spacy) (3.0.9)\n",
      "Requirement already satisfied: smart-open<6.0.0,>=5.0.0 in /home/sridiyer/.local/lib/python3.6/site-packages (from pathy>=0.3.5->spacy) (5.2.1)\n",
      "Requirement already satisfied: dataclasses<1.0,>=0.6 in /usr/local/lib/python3.6/dist-packages (from pathy>=0.3.5->spacy) (0.8)\n",
      "Requirement already satisfied: idna<4,>=2.5 in /home/sridiyer/.local/lib/python3.6/site-packages (from requests<3.0.0,>=2.13.0->spacy) (3.3)\n",
      "Requirement already satisfied: certifi>=2017.4.17 in /home/sridiyer/.local/lib/python3.6/site-packages (from requests<3.0.0,>=2.13.0->spacy) (2022.5.18.1)\n",
      "Requirement already satisfied: charset-normalizer~=2.0.0 in /home/sridiyer/.local/lib/python3.6/site-packages (from requests<3.0.0,>=2.13.0->spacy) (2.0.12)\n",
      "Requirement already satisfied: urllib3<1.27,>=1.21.1 in /home/sridiyer/.local/lib/python3.6/site-packages (from requests<3.0.0,>=2.13.0->spacy) (1.26.9)\n",
      "Requirement already satisfied: contextvars<3,>=2.4 in /usr/local/lib/python3.6/dist-packages (from thinc<8.1.0,>=8.0.14->spacy) (2.4)\n",
      "Requirement already satisfied: importlib-resources in /home/sridiyer/.local/lib/python3.6/site-packages (from tqdm<5.0.0,>=4.38.0->spacy) (5.4.0)\n",
      "Requirement already satisfied: click<9.0.0,>=7.1.1 in /home/sridiyer/.local/lib/python3.6/site-packages (from typer<0.5.0,>=0.3.0->spacy) (8.0.4)\n",
      "Requirement already satisfied: importlib-metadata in /usr/local/lib/python3.6/dist-packages (from click<9.0.0,>=7.1.1->typer<0.5.0,>=0.3.0->spacy) (4.8.3)\n",
      "Requirement already satisfied: immutables>=0.9 in /usr/local/lib/python3.6/dist-packages (from contextvars<3,>=2.4->thinc<8.1.0,>=8.0.14->spacy) (0.18)\n",
      "Note: you may need to restart the kernel to use updated packages.\n"
     ]
    }
   ],
   "source": [
    "pip install spacy"
   ]
  },
  {
   "cell_type": "code",
   "execution_count": 16,
   "id": "708b654d-cc45-4a22-bf71-78f3096ce18e",
   "metadata": {},
   "outputs": [
    {
     "name": "stdout",
     "output_type": "stream",
     "text": [
      "Defaulting to user installation because normal site-packages is not writeable\n",
      "Requirement already satisfied: gensim in /home/sridiyer/.local/lib/python3.6/site-packages (4.2.0)\n",
      "Requirement already satisfied: smart-open>=1.8.1 in /home/sridiyer/.local/lib/python3.6/site-packages (from gensim) (5.2.1)\n",
      "Requirement already satisfied: numpy>=1.17.0 in /home/sridiyer/.local/lib/python3.6/site-packages (from gensim) (1.19.5)\n",
      "Requirement already satisfied: scipy>=0.18.1 in /home/sridiyer/.local/lib/python3.6/site-packages (from gensim) (1.5.4)\n",
      "Note: you may need to restart the kernel to use updated packages.\n"
     ]
    }
   ],
   "source": [
    "pip install gensim"
   ]
  },
  {
   "cell_type": "code",
   "execution_count": 9,
   "id": "71c114d9-6211-4d2b-8a17-e477e383fd67",
   "metadata": {},
   "outputs": [
    {
     "name": "stdout",
     "output_type": "stream",
     "text": [
      "Nick likes play football, fond tennis.\n"
     ]
    }
   ],
   "source": [
    "from gensim.parsing.preprocessing import remove_stopwords\n",
    "\n",
    "text = \"Nick likes to play football, however he is not too fond of tennis.\"\n",
    "filtered_sentence = remove_stopwords(text)\n",
    "\n",
    "print(filtered_sentence)"
   ]
  },
  {
   "cell_type": "code",
   "execution_count": null,
   "id": "a30c3f27-1288-4bbf-ba54-d2d565016bbf",
   "metadata": {},
   "outputs": [],
   "source": []
  },
  {
   "cell_type": "markdown",
   "id": "0b9e64bd-03f1-4637-926d-007a8fbaad0e",
   "metadata": {},
   "source": [
    "# define model for production\n",
    "from spacy.lang.en import English\n",
    "from gensim.parsing.preprocessing import remove_stopwords\n",
    "\n",
    "class QueryParse ():\n",
    "\n",
    "  def __init__(self):\n",
    "    self.nlp_model = English()\n",
    "    ruler = self.nlp_model.add_pipe(\"entity_ruler\").from_disk(\"./test1_NER_model_may28.jsonl\")\n",
    "\n",
    "    \n",
    "  def parse_query_1 (self, qry_request, context): \n",
    "    \"\"\"\n",
    "    parse user query\n",
    "    \"\"\"\n",
    "    # eventually use lower case - now mixed case\n",
    "    #doc = self.nlp_model(str.lower(qry_request))\n",
    "    doc = self.nlp_model(qry_request)\n",
    "    phrase_list = []\n",
    "    label_list = []\n",
    "    comb_list = []\n",
    "    for ent in doc.ents:\n",
    "      phrase_list.append(ent.text)\n",
    "      label_list.append(ent.label_)\n",
    "      comb_list.append([ent.label_, ent.text])\n",
    "    \n",
    "    weaviate_context=qry_request\n",
    "    for entity in comb_list:\n",
    "        weaviate_context=weaviate_context.replace(entity[1], '') \n",
    "        \n",
    "    weaviate_context=remove_stopwords(weaviate_context)    \n",
    "    comb_list.append([\"weaviate_neartext\", weaviate_context])\n",
    "    \n",
    "    if len(label_list) == 1:\n",
    "      return comb_list[0]\n",
    "    \n",
    "    return comb_list\n",
    "\n"
   ]
  },
  {
   "cell_type": "code",
   "execution_count": 266,
   "id": "db96ca1e-2804-49a8-9327-d87e5e63ec09",
   "metadata": {},
   "outputs": [],
   "source": [
    "# define model for production\n",
    "from spacy.lang.en import English\n",
    "from gensim.parsing.preprocessing import remove_stopwords\n",
    "\n",
    "class QueryParse ():\n",
    "\n",
    "  def __init__(self):\n",
    "    self.nlp_model = English()\n",
    "    ruler = self.nlp_model.add_pipe(\"entity_ruler\").from_disk(\"./test1_NER_model_may28.jsonl\")\n",
    "\n",
    "# this version of parse_query returns a dictionary \n",
    "    \n",
    "  def parse_query (self, qry_request, context): \n",
    "    \"\"\"\n",
    "    parse user query\n",
    "    \"\"\"\n",
    "    # eventually use lower case - now mixed case\n",
    "    #doc = self.nlp_model(str.lower(qry_request))\n",
    "    doc = self.nlp_model(qry_request)\n",
    "    phrase_list = []\n",
    "    label_list = []\n",
    "    comb_list = {}\n",
    "    for ent in doc.ents:\n",
    "      phrase_list.append(ent.text)\n",
    "      label_list.append(ent.label_)\n",
    "      comb_list[ent.label_]= ent.text\n",
    "    \n",
    "    # add weaviate_context : just information excluding words for ent.label\n",
    "    weaviate_context=qry_request\n",
    "    keys=comb_list.keys()\n",
    "    for key in keys:\n",
    "        if key!='weaviate_neartext':\n",
    "            weaviate_context=weaviate_context.replace(comb_list[key], '')  \n",
    "    \n",
    "    weaviate_context=remove_stopwords(weaviate_context)    \n",
    "    comb_list[\"weaviate_neartext\"]= weaviate_context\n",
    "    \n",
    "    #if len(label_list) == 1:\n",
    "    #  return comb_list[0]\n",
    "    \n",
    "    return comb_list\n"
   ]
  },
  {
   "cell_type": "code",
   "execution_count": 268,
   "id": "15250cdf-46b3-4132-bcee-743c61a75132",
   "metadata": {},
   "outputs": [
    {
     "name": "stdout",
     "output_type": "stream",
     "text": [
      "{'PRODUCT': 'Marco EyeCare Cards', 'CATEGORY': 'Shoulder Bags', 'weaviate_neartext': 'Mitaki-Japan large size come highly recomended friend'}\n"
     ]
    }
   ],
   "source": [
    "# xx is a dummy variable - we dont have a context etc\n",
    "# instiate the model \n",
    "ner_service = QueryParse ( )\n",
    "ner_out1 = ner_service.parse_query (\"Marco EyeCare Cards from Shoulder Bags and Mitaki-Japan and large size and come highly recomended by friend\", 'xx')\n",
    "print (ner_out1)"
   ]
  },
  {
   "cell_type": "code",
   "execution_count": 209,
   "id": "f39bc545-1c52-487e-ab17-13b4236cba11",
   "metadata": {},
   "outputs": [],
   "source": [
    "# define some text for testing\n",
    "sample_query_text = \"I want to buy a Sunydeal Hedgren Portable Speakers &amp; Docks\"\n",
    "\n",
    "sample_text2 = \"compare P46 Digital Pikachu USB Flash Drive 16GB with Sunydeal Portable Speakers &amp; Docks\"\n",
    "\n",
    "text1 = \"Marco EyeCare Cards from Shoulder Bags and Mitaki-Japan and large size\"\n",
    "\n",
    "text2 = \"Electronic made by Maxell good with deep bass performance\""
   ]
  },
  {
   "cell_type": "code",
   "execution_count": 205,
   "id": "e7ec543d-9dc9-47a6-a9d7-6a96be91b238",
   "metadata": {},
   "outputs": [
    {
     "name": "stdout",
     "output_type": "stream",
     "text": [
      "{'PRODUCT': 'Marco EyeCare Cards', 'CATEGORY': 'Shoulder Bags', 'weaviate_neartext': 'Marco EyeCare Cards Shoulder Bags Mitaki-Japan large size'}\n"
     ]
    }
   ],
   "source": [
    "# we have already instatiated the model - so just keep using pred service\n",
    "# xx is dummy variable, place holder for context etc\n",
    "print (ner_service.parse_query (text1, 'xx'))"
   ]
  },
  {
   "cell_type": "code",
   "execution_count": 235,
   "id": "6de2515c-b3c7-4a28-b09c-69698960eb09",
   "metadata": {},
   "outputs": [
    {
     "name": "stdout",
     "output_type": "stream",
     "text": [
      "{'VENDOR': 'Maxell', 'weaviate_neartext': 'Electronic good deep bass performance'}\n"
     ]
    }
   ],
   "source": [
    "text2_ner=ner_service.parse_query (text2, 'xx')\n",
    "print ( text2_ner)\n"
   ]
  },
  {
   "cell_type": "code",
   "execution_count": 236,
   "id": "893063fa-e589-40ef-9dc2-2e2d0596ce66",
   "metadata": {},
   "outputs": [],
   "source": [
    "text3 = \"Laptop Case Moleskine good with water-resistant \"\n"
   ]
  },
  {
   "cell_type": "code",
   "execution_count": 237,
   "id": "7cc0e7fe-c91a-45bd-8f70-ad1eb92175c6",
   "metadata": {},
   "outputs": [
    {
     "name": "stdout",
     "output_type": "stream",
     "text": [
      "{'VENDOR': 'Moleskine', 'weaviate_neartext': 'Laptop Case good water-resistant'}\n"
     ]
    }
   ],
   "source": [
    "text3_ner=ner_service.parse_query (text3, 'xx') \n",
    "print(text3_ner)"
   ]
  },
  {
   "cell_type": "markdown",
   "id": "4ae373fe-df05-4d94-83d9-0b8d22f4d4f4",
   "metadata": {},
   "source": []
  },
  {
   "cell_type": "markdown",
   "id": "3cc20a0b-b967-4056-b72c-2791879e46ab",
   "metadata": {},
   "source": [
    "## get context search part "
   ]
  },
  {
   "cell_type": "code",
   "execution_count": 238,
   "id": "9f148025-5b13-48e2-95e0-006336f50ae6",
   "metadata": {},
   "outputs": [],
   "source": [
    "# initialize weaviate client\n",
    "import weaviate\n",
    "\n",
    "# for sandbox \n",
    "#weaviate_url = ' https://mlopssearchtest.semi.network'\n",
    "#secret = weaviate.AuthClientPassword(\"sridiyer@gmail.com\", \"xxx\")\n",
    "\n",
    "weaviate_url = 'http://34.67.249.252:8080/'\n",
    "secret = weaviate.AuthClientPassword(\"admin\", \"admin\")\n",
    "\n",
    "# Initiate the client with the secret\n",
    "client = weaviate.Client(weaviate_url, secret)"
   ]
  },
  {
   "cell_type": "code",
   "execution_count": 342,
   "id": "677ea478-e8e7-4220-9784-b60cc3cf6a70",
   "metadata": {},
   "outputs": [],
   "source": [
    "def get_query_for_ner_concept(text_ner):\n",
    "    \n",
    "    keys=text_ner.keys()\n",
    "    operands_list=[]\n",
    "    for key in keys:\n",
    "        if key!='weaviate_neartext':\n",
    "            if key =='VENDOR':\n",
    "                operands_list.append({\n",
    "                     \"path\": [\"brand\"],\n",
    "                     \"operator\": \"Equal\",\n",
    "                     \"valueString\": text_ner['VENDOR']\n",
    "                   })\n",
    "            elif key =='CATEGORY':\n",
    "                 operands_list.append({\n",
    "                     \"path\": [\"category\"],\n",
    "                     \"operator\": \"Equal\",\n",
    "                     \"valueString\": text_ner['CATEGORY']\n",
    "                   })\n",
    "            else: \n",
    "                continue \n",
    "                \n",
    "    where_filter = {\n",
    "          \"operator\": \"Or\",\n",
    "          \"operands\": operands_list\n",
    "        }    \n",
    "    near_text_filter = {\n",
    "            \"concepts\": [text_ner['weaviate_neartext']]\n",
    "           # \"certainty\": 0.7\n",
    "        }\n",
    "    query_result = client.query\\\n",
    "            .get(\"Product\", [\"title\",\"category\", \"brand\" ,\"description\",\"price\",\"mainCategory\"])\\\n",
    "            .with_near_text(near_text_filter)\\\n",
    "            .with_limit(5)\\\n",
    "            .with_where(where_filter)\\\n",
    "            .do()\n",
    "       #         .with_near_text(near_text_filter)\\\n",
    "\n",
    "    return(query_result['data']['Get']['Product'])\n"
   ]
  },
  {
   "cell_type": "code",
   "execution_count": 346,
   "id": "c5953030-f43d-41b0-9c5e-91b59aff66de",
   "metadata": {},
   "outputs": [
    {
     "data": {
      "text/plain": [
       "[{'brand': 'Moleskine',\n",
       "  'category': ['Electronics',\n",
       "   'Computers &amp; Accessories',\n",
       "   'Laptop Accessories',\n",
       "   'Bags, Cases &amp; Sleeves',\n",
       "   'Folio Cases'],\n",
       "  'description': 'Designed to embrace and safeguard your digital creativity, Moleskine laptop cases are fitted with stretch fabric, velour lining and light padding to ensure a high level of protection.',\n",
       "  'mainCategory': 'Office Products',\n",
       "  'price': 45.74,\n",
       "  'title': 'Moleskine 9788866139799 15-Inch Laptop Case'},\n",
       " {'brand': 'Moleskine',\n",
       "  'category': ['Electronics',\n",
       "   'Computers & Accessories',\n",
       "   'Tablet Accessories',\n",
       "   'Bags, Cases & Sleeves'],\n",
       "  'description': 'Designed to embrace and safeguard your digital creativity, Moleskine laptop cases are fitted with stretch fabric, velour lining and light padding to ensure a high level of protection.',\n",
       "  'mainCategory': 'Computers',\n",
       "  'price': 37.52,\n",
       "  'title': 'Moleskine 9788866139812 10-Inch Laptop Case'},\n",
       " {'brand': 'Moleskine',\n",
       "  'category': ['Electronics', 'eBook Readers &amp; Accessories', 'Stands'],\n",
       "  'description': 'The universal Moleskine case for eReaders. It can be used either inside Moleskine bags or independently and is fitted with a handy internal divider that lets you stand the device upright. Made with the same water-repellent, soft-touch material used to make the base of Moleskine bags.',\n",
       "  'mainCategory': 'All Electronics',\n",
       "  'price': 29.99,\n",
       "  'title': 'Moleskine 9788866133018 eReader Shell - Black'},\n",
       " {'brand': 'Moleskine',\n",
       "  'category': ['Electronics',\n",
       "   'Computers &amp; Accessories',\n",
       "   'Laptop Accessories',\n",
       "   'Bags, Cases &amp; Sleeves',\n",
       "   'Sleeves'],\n",
       "  'description': 'Designed to embrace and safeguard your digital creativity, Moleskine laptop cases are fitted with stretch fabric, velour lining and light padding to ensure a high level of protection.',\n",
       "  'mainCategory': 'Computers',\n",
       "  'price': 5.44,\n",
       "  'title': 'Moleskine 9788866139805 13-Inch Laptop Case'},\n",
       " {'brand': 'Moleskine',\n",
       "  'category': ['Electronics',\n",
       "   'Computers &amp; Accessories',\n",
       "   'Tablet Accessories',\n",
       "   'Bags, Cases &amp; Sleeves',\n",
       "   'Cases'],\n",
       "  'description': \"From Moleskine, the legendary manufacturer of books-yet-to-be written, comes the newest analog-digital hybrid tool: the Moleskine tablet cover. Designed to accommodate the Apple iPad, the features and style of this cover are classic Moleskine: sleek rounded corners, strong elastic band, and the iconic smooth black cover. The cover protects and cushions the device, in a silhouette that's instantly classic and contemporary. It's a simple design beloved by writers, artists, and readers for over a century.\",\n",
       "  'mainCategory': 'All Electronics',\n",
       "  'price': 84.18,\n",
       "  'title': 'Moleskine Folio Digital Tablet Cover for Apple iPad'}]"
      ]
     },
     "execution_count": 346,
     "metadata": {},
     "output_type": "execute_result"
    }
   ],
   "source": [
    "get_query_for_ner_concept(text3_ner)"
   ]
  },
  {
   "cell_type": "code",
   "execution_count": 283,
   "id": "7f951591-142a-4fe5-a408-34dcd7c17f70",
   "metadata": {},
   "outputs": [
    {
     "ename": "KeyError",
     "evalue": "'VENDOR'",
     "output_type": "error",
     "traceback": [
      "\u001b[0;31m---------------------------------------------------------------------------\u001b[0m",
      "\u001b[0;31mKeyError\u001b[0m                                  Traceback (most recent call last)",
      "\u001b[0;32m<ipython-input-283-2c1fce84e83b>\u001b[0m in \u001b[0;36m<module>\u001b[0;34m\u001b[0m\n\u001b[0;32m----> 1\u001b[0;31m \u001b[0mner_out1\u001b[0m\u001b[0;34m[\u001b[0m\u001b[0;34m'VENDOR'\u001b[0m\u001b[0;34m]\u001b[0m\u001b[0;34m\u001b[0m\u001b[0;34m\u001b[0m\u001b[0m\n\u001b[0m",
      "\u001b[0;31mKeyError\u001b[0m: 'VENDOR'"
     ]
    }
   ],
   "source": []
  },
  {
   "cell_type": "code",
   "execution_count": 336,
   "id": "002df626-0af5-4d5b-8cfe-5df03f0fd238",
   "metadata": {},
   "outputs": [
    {
     "data": {
      "text/plain": [
       "{'VENDOR': 'Moleskine',\n",
       " 'weaviate_neartext': 'Laptop Case good water-resistant'}"
      ]
     },
     "execution_count": 336,
     "metadata": {},
     "output_type": "execute_result"
    }
   ],
   "source": [
    "text3_ner"
   ]
  },
  {
   "cell_type": "code",
   "execution_count": 339,
   "id": "60f44b81-117a-4788-bc20-3457e8002aff",
   "metadata": {},
   "outputs": [
    {
     "data": {
      "text/plain": [
       "{'PRODUCT': 'Marco EyeCare Cards',\n",
       " 'CATEGORY': 'Shoulder Bags',\n",
       " 'weaviate_neartext': 'Mitaki-Japan large size come highly recomended friend'}"
      ]
     },
     "execution_count": 339,
     "metadata": {},
     "output_type": "execute_result"
    }
   ],
   "source": [
    "ner_out1"
   ]
  },
  {
   "cell_type": "code",
   "execution_count": 344,
   "id": "90ac04d4-32c5-4ab8-9a4e-bb392eccf3ce",
   "metadata": {},
   "outputs": [],
   "source": [
    "text_ner=text3_ner\n",
    "keys=text_ner.keys()\n",
    "operands_list=[]\n",
    "for key in keys:\n",
    "    if key!='weaviate_neartext':\n",
    "        if key =='VENDOR':\n",
    "            operands_list.append({\n",
    "                 \"path\": [\"brand\"],\n",
    "                 \"operator\": \"Equal\",\n",
    "                 \"valueString\": text_ner['VENDOR']\n",
    "               })\n",
    "        elif key =='CATEGORY':\n",
    "             operands_list.append({\n",
    "                 \"path\": [\"category\"],\n",
    "                 \"operator\": \"Equal\",\n",
    "                 \"valueString\": text_ner['CATEGORY']\n",
    "               })\n",
    "        else: \n",
    "            continue "
   ]
  },
  {
   "cell_type": "code",
   "execution_count": 345,
   "id": "d9399826-1f29-4f69-8fa2-2cdd0243251f",
   "metadata": {},
   "outputs": [
    {
     "data": {
      "text/plain": [
       "[{'path': ['brand'], 'operator': 'Equal', 'valueString': 'Moleskine'}]"
      ]
     },
     "execution_count": 345,
     "metadata": {},
     "output_type": "execute_result"
    }
   ],
   "source": [
    "operands_list"
   ]
  },
  {
   "cell_type": "code",
   "execution_count": null,
   "id": "2a05ad5b-2ca4-4eaa-bd79-38267a8e5951",
   "metadata": {},
   "outputs": [],
   "source": []
  }
 ],
 "metadata": {
  "kernelspec": {
   "display_name": "Python 3",
   "language": "python",
   "name": "python3"
  },
  "language_info": {
   "codemirror_mode": {
    "name": "ipython",
    "version": 3
   },
   "file_extension": ".py",
   "mimetype": "text/x-python",
   "name": "python",
   "nbconvert_exporter": "python",
   "pygments_lexer": "ipython3",
   "version": "3.6.9"
  }
 },
 "nbformat": 4,
 "nbformat_minor": 5
}
