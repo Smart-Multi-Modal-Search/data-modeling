{
 "cells": [
  {
   "cell_type": "markdown",
   "id": "a84fba29-885b-4d74-9fd9-eb8079ed5438",
   "metadata": {},
   "source": [
    "CODE for deploying saved NER model\n"
   ]
  },
  {
   "cell_type": "code",
   "execution_count": null,
   "id": "f5819cdc-bbd2-4da9-9b20-0078d8eeba94",
   "metadata": {},
   "outputs": [],
   "source": [
    "pip install -U pip setuptools wheel"
   ]
  },
  {
   "cell_type": "code",
   "execution_count": null,
   "id": "e530f5df-6635-4164-ac40-a6061d151897",
   "metadata": {},
   "outputs": [],
   "source": [
    "pip install spacy"
   ]
  },
  {
   "cell_type": "code",
   "execution_count": null,
   "id": "71c114d9-6211-4d2b-8a17-e477e383fd67",
   "metadata": {},
   "outputs": [],
   "source": []
  },
  {
   "cell_type": "code",
   "execution_count": 4,
   "id": "a73bfd34-1651-406a-8c66-63c1e043236f",
   "metadata": {},
   "outputs": [],
   "source": [
    "# define model for production\n",
    "from spacy.lang.en import English\n",
    "class QueryParse ():\n",
    "\n",
    "  def __init__(self):\n",
    "    self.nlp_model = English()\n",
    "    ruler = self.nlp_model.add_pipe(\"entity_ruler\").from_disk(\"./test1_NER_model_may28.jsonl\")\n",
    "\n",
    "    \n",
    "  def parse_query (self, qry_request, context):\n",
    "    \"\"\"\n",
    "    parse user query\n",
    "    \"\"\"\n",
    "    # eventually use lower case - now mixed case\n",
    "    #doc = self.nlp_model(str.lower(qry_request))\n",
    "    doc = self.nlp_model(qry_request)\n",
    "    phrase_list = []\n",
    "    label_list = []\n",
    "    comb_list = []\n",
    "    for ent in doc.ents:\n",
    "      phrase_list.append(ent.text)\n",
    "      label_list.append(ent.label_)\n",
    "      comb_list.append([ent.label_, ent.text])\n",
    "    \n",
    "    if len(label_list) == 1:\n",
    "      return comb_list[0]\n",
    "    \n",
    "    return comb_list\n",
    "\n"
   ]
  },
  {
   "cell_type": "code",
   "execution_count": 5,
   "id": "15250cdf-46b3-4132-bcee-743c61a75132",
   "metadata": {},
   "outputs": [
    {
     "name": "stdout",
     "output_type": "stream",
     "text": [
      "[['PRODUCT', 'Marco EyeCare Cards'], ['CATEGORY', 'Shoulder Bags']]\n"
     ]
    }
   ],
   "source": [
    "# xx is a dummy variable - we dont have a context etc\n",
    "# instiate the model \n",
    "ner_service = QueryParse ( )\n",
    "ner_out1 = ner_service.parse_query (\"Marco EyeCare Cards from Shoulder Bags and Mitaki-Japan and large size\", 'xx')\n",
    "print (ner_out1)"
   ]
  },
  {
   "cell_type": "code",
   "execution_count": 6,
   "id": "f39bc545-1c52-487e-ab17-13b4236cba11",
   "metadata": {},
   "outputs": [],
   "source": [
    "# define some text for testing\n",
    "sample_query_text = \"I want to buy a Sunydeal Hedgren Portable Speakers &amp; Docks\"\n",
    "\n",
    "sample_text2 = \"compare P46 Digital Pikachu USB Flash Drive 16GB with Sunydeal Portable Speakers &amp; Docks\"\n",
    "\n",
    "text1 = \"Marco EyeCare Cards from Shoulder Bags and Mitaki-Japan and large size\"\n",
    "\n",
    "text2 = \"Shoulder Bags and Computer Microphones made by Proster and sold as Marco EyeCare Cards\""
   ]
  },
  {
   "cell_type": "code",
   "execution_count": 8,
   "id": "e7ec543d-9dc9-47a6-a9d7-6a96be91b238",
   "metadata": {},
   "outputs": [
    {
     "name": "stdout",
     "output_type": "stream",
     "text": [
      "[['PRODUCT', 'Marco EyeCare Cards'], ['CATEGORY', 'Shoulder Bags']]\n"
     ]
    }
   ],
   "source": [
    "# we have already instatiated the model - so just keep using pred service\n",
    "# xx is dummy variable, place holder for context etc\n",
    "print (ner_service.parse_query (text1, 'xx'))"
   ]
  },
  {
   "cell_type": "code",
   "execution_count": 9,
   "id": "6de2515c-b3c7-4a28-b09c-69698960eb09",
   "metadata": {},
   "outputs": [
    {
     "name": "stdout",
     "output_type": "stream",
     "text": [
      "[['CATEGORY', 'Shoulder Bags'], ['CATEGORY', 'Computer Microphones'], ['VENDOR', 'Proster'], ['PRODUCT', 'Marco EyeCare Cards']]\n"
     ]
    }
   ],
   "source": [
    "print ( ner_service.parse_query (text2, 'xx') )"
   ]
  },
  {
   "cell_type": "code",
   "execution_count": null,
   "id": "9f148025-5b13-48e2-95e0-006336f50ae6",
   "metadata": {},
   "outputs": [],
   "source": []
  }
 ],
 "metadata": {
  "kernelspec": {
   "display_name": "Python 3",
   "language": "python",
   "name": "python3"
  },
  "language_info": {
   "codemirror_mode": {
    "name": "ipython",
    "version": 3
   },
   "file_extension": ".py",
   "mimetype": "text/x-python",
   "name": "python",
   "nbconvert_exporter": "python",
   "pygments_lexer": "ipython3",
   "version": "3.6.9"
  }
 },
 "nbformat": 4,
 "nbformat_minor": 5
}
