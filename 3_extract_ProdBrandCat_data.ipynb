{
 "cells": [
  {
   "cell_type": "markdown",
   "id": "76f2eb1d-c6cc-4128-a19e-ff330f287c9e",
   "metadata": {},
   "source": [
    "This notebook extracts Product (names), Brand (names) and Category (names) from input data. We will use this data to finetune a Spacy NER model to identify the same in incoming query.\n"
   ]
  },
  {
   "cell_type": "code",
   "execution_count": 1,
   "id": "839b479b-2422-4c4c-a1e2-106abfe9fee6",
   "metadata": {
    "tags": []
   },
   "outputs": [],
   "source": [
    "import pandas as pd\n",
    "import pickle\n"
   ]
  },
  {
   "cell_type": "code",
   "execution_count": 2,
   "id": "fef4c6c6-e94b-4fc0-b76b-ac8938b15970",
   "metadata": {},
   "outputs": [],
   "source": [
    "# read data from existing pickle (pre-processed file)\n",
    "\n",
    "prod_meta_fn = 'proc_prod_meta_data_may22.pkl'\n",
    "\n",
    "with open(prod_meta_fn, 'rb') as fhandle:\n",
    "    prod_meta_data_list = pickle.load(fhandle)"
   ]
  },
  {
   "cell_type": "code",
   "execution_count": 3,
   "id": "3b9973c8-2fe9-453e-83fd-5521a93f5581",
   "metadata": {},
   "outputs": [
    {
     "data": {
      "text/plain": [
       "{'asin': '0011300000',\n",
       " 'title': 'Genuine Geovision 1 Channel 3rd Party NVR IP Software with USB Dongle Onvif PSIA',\n",
       " 'description': 'The following camera brands and models have been tested for compatibility with GV-Software. GeoVision  ACTi  Arecont Vision  AXIS  Bosch  Canon CNB  D-Link  EtroVision  HikVision  HUNT  IQEye JVC  LG  MOBOTIX  Panasonic  Pelco  Samsung Sanyo  Sony  UDP  Verint  VIVOTEK      Compatible Standard and Protocol GV-System also allows for integration with all other IP video devices compatible with ONVIF(V2.0), PSIA (V1.1) standards, or RTSP protocol. ONVIF  PSIA  RTSP          Note: Specifications are subject to change without notice. Every effort has been made to ensure that the information on this Web site is accurate. No liability is assumed for incidental or consequential damages arising from the use of the information or products contained herein.',\n",
       " 'category': ['Electronics',\n",
       "  'Camera &amp; Photo',\n",
       "  'Video Surveillance',\n",
       "  'Surveillance Systems',\n",
       "  'Surveillance DVR Kits'],\n",
       " 'mainCategory': 'Camera &amp; Photo',\n",
       " 'brand': 'GeoVision',\n",
       " 'feature': ['Genuine Geovision 1 Channel NVR IP Software',\n",
       "  'Support 3rd Party IP Camera',\n",
       "  'USB Dongle'],\n",
       " 'price': 65.0}"
      ]
     },
     "execution_count": 3,
     "metadata": {},
     "output_type": "execute_result"
    }
   ],
   "source": [
    "# to see what fields exist in prod_meta_data\n",
    "\n",
    "prod_meta_data_list [0]"
   ]
  },
  {
   "cell_type": "code",
   "execution_count": 11,
   "id": "1e695022-ea28-4670-995f-df72a501c1b6",
   "metadata": {},
   "outputs": [
    {
     "name": "stdout",
     "output_type": "stream",
     "text": [
      "total records processed ...     266055\n"
     ]
    }
   ],
   "source": [
    "# initialize the lists of data we want to get (for NER model training)\n",
    "prod_name_list = []\n",
    "brand_list = []\n",
    "category_list = []\n",
    "\n",
    "for ind_prod in prod_meta_data_list:\n",
    "    i_prod_name = ind_prod.get ('title', 'Z')\n",
    "    i_brand_name = ind_prod.get ('brand', 'Z')\n",
    "    i_category = [x for x in ind_prod['category']]\n",
    "    if i_prod_name != 'Z':\n",
    "        prod_name_list.append(i_prod_name)\n",
    "    if i_brand_name != 'Z':\n",
    "        brand_list.append(i_brand_name)\n",
    "    if i_category:\n",
    "        category_list.extend(i_category)\n",
    "    count += 1\n",
    "\n",
    "print ('total records processed ...    ', count)"
   ]
  },
  {
   "cell_type": "code",
   "execution_count": 12,
   "id": "82fae2ec-4d19-40e4-9f0e-2693fd54c37f",
   "metadata": {},
   "outputs": [
    {
     "name": "stdout",
     "output_type": "stream",
     "text": [
      "prod  266050\n",
      "brand  266049\n",
      "category   1191531\n"
     ]
    }
   ],
   "source": [
    "print ('prod ', len(prod_name_list))\n",
    "print ('brand ', len(brand_list))\n",
    "print ('category  ', len(category_list))"
   ]
  },
  {
   "cell_type": "code",
   "execution_count": 13,
   "id": "71c94cb7-a6d0-4ea6-b182-2ae5785aa843",
   "metadata": {},
   "outputs": [],
   "source": [
    "prod_name_list = set(prod_name_list)\n",
    "brand_list = set(brand_list)\n",
    "category_list = set(category_list)"
   ]
  },
  {
   "cell_type": "code",
   "execution_count": 14,
   "id": "1fffdf98-27b2-4abe-bb05-7f320cd24b84",
   "metadata": {},
   "outputs": [
    {
     "name": "stdout",
     "output_type": "stream",
     "text": [
      "prod  250768\n",
      "brand  20194\n",
      "category   4136\n"
     ]
    }
   ],
   "source": [
    "# unique values\n",
    "\n",
    "print ('prod ', len(prod_name_list))\n",
    "print ('brand ', len(brand_list))\n",
    "print ('category  ', len(category_list))"
   ]
  },
  {
   "cell_type": "code",
   "execution_count": 18,
   "id": "1ba4ca32-0064-476e-851b-26633e2c0ecf",
   "metadata": {},
   "outputs": [],
   "source": [
    "# save the unique values for use with Spacy NER model\n",
    "\n",
    "prod_name_fn = 'unique_prod_names_may28.pkl'\n",
    "\n",
    "with open(prod_name_fn, 'wb') as fhandle:\n",
    "    pickle.dump(prod_name_list, fhandle)"
   ]
  },
  {
   "cell_type": "code",
   "execution_count": 16,
   "id": "2763aed1-4a6b-4180-b299-e833c1f18108",
   "metadata": {},
   "outputs": [],
   "source": [
    "brand_name_fn = 'unique_brand_names_may28.pkl'\n",
    "\n",
    "with open(brand_name_fn, 'wb') as fb:\n",
    "    pickle.dump(brand_list, fb)"
   ]
  },
  {
   "cell_type": "code",
   "execution_count": 17,
   "id": "7ff0a9c4-0899-49e7-be2e-ce23906b605d",
   "metadata": {},
   "outputs": [],
   "source": [
    "cat_name_fn = 'unique_category_names_may28.pkl'\n",
    "\n",
    "with open(cat_name_fn, 'wb') as fc:\n",
    "    pickle.dump(category_list, fc)"
   ]
  },
  {
   "cell_type": "code",
   "execution_count": null,
   "id": "3ff7f6f7-8399-4761-93af-4087f6ea5167",
   "metadata": {},
   "outputs": [],
   "source": []
  }
 ],
 "metadata": {
  "kernelspec": {
   "display_name": "Python 3",
   "language": "python",
   "name": "python3"
  },
  "language_info": {
   "codemirror_mode": {
    "name": "ipython",
    "version": 3
   },
   "file_extension": ".py",
   "mimetype": "text/x-python",
   "name": "python",
   "nbconvert_exporter": "python",
   "pygments_lexer": "ipython3",
   "version": "3.6.9"
  }
 },
 "nbformat": 4,
 "nbformat_minor": 5
}
