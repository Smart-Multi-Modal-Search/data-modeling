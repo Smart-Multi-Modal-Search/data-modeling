{
 "cells": [
  {
   "cell_type": "code",
   "execution_count": 4,
   "id": "dc82f2d4-46db-4e98-9141-5dbab2ff9bbd",
   "metadata": {},
   "outputs": [
    {
     "name": "stdout",
     "output_type": "stream",
     "text": [
      "/home/sridiyer/raw_data\n"
     ]
    }
   ],
   "source": [
    "!pwd"
   ]
  },
  {
   "cell_type": "code",
   "execution_count": 3,
   "id": "9e259cf2-55fc-41c2-87da-5bba1a940a86",
   "metadata": {},
   "outputs": [],
   "source": [
    "import pandas as pd\n",
    "import gzip\n",
    "import json\n",
    "import pickle"
   ]
  },
  {
   "cell_type": "code",
   "execution_count": 17,
   "id": "a2510923-450a-450b-b8b3-54b398be5ef0",
   "metadata": {},
   "outputs": [
    {
     "name": "stdout",
     "output_type": "stream",
     "text": [
      " num products in the processed data   266050\n"
     ]
    }
   ],
   "source": [
    "# process product meta data and store it in a list of python dictionary\n",
    "# we can use the dictionary for loading direct into weaviate\n",
    "# (i.e., no need to use pandas dataframe - covert to dictionary later)\n",
    "\n",
    "prod_meta_data_list = [] # list of dictionaries (each dict - product meta data)\n",
    "\n",
    "with gzip.open('meta_Electronics.json.gz') as f:\n",
    "    for l in f:\n",
    "        # load each line in the input file\n",
    "        \n",
    "        row = json.loads(l.strip())\n",
    "        \n",
    "        # pre-processing getting rid of rows with bad data\n",
    "        if row['description'] ==[]:\n",
    "            continue\n",
    "        if (row['category'] ==\"\") or (row['category'] ==[]):\n",
    "            continue\n",
    "        if row['feature'] == []:\n",
    "            continue\n",
    "        if (row['title'] ==\"\") or (row['title'] ==[]):\n",
    "            continue\n",
    "        if not isinstance (row['asin'], str):\n",
    "            continue\n",
    "        # for price strip $ is any. there may still be\n",
    "        # problems because people may have put comma instead of\n",
    "        # period in price $ 2,40 instead of just 2.40\n",
    "        try:\n",
    "            rprice = float(row['price'].replace(\"$\",\"\").replace(\",\",\".\"))\n",
    "        except ValueError:\n",
    "            continue\n",
    "        \n",
    "        # since we are storing data in picke format, we can also store\n",
    "        # processed data in dictionary format (instead of pandas dataframe\n",
    "        # this helps with loading into weaviate\n",
    "        \n",
    "        prod_meta_dict = {\n",
    "            'asin' : row['asin'],\n",
    "            'title' : row ['title'],\n",
    "            'description' : row ['description'][0].replace(\"\\n\", \" \").replace(\"\\t\", \" \"),\n",
    "            'category' : row ['category'],\n",
    "            'mainCategory' : row['main_cat'],\n",
    "            'brand' : row ['brand'],\n",
    "            'feature' :  row ['feature'],\n",
    "            'price' : rprice\n",
    "          }    \n",
    "        prod_meta_data_list.append(prod_meta_dict)\n",
    "\n",
    "print (' num products in the processed data  ', len(prod_meta_data_list))\n",
    "    "
   ]
  },
  {
   "cell_type": "code",
   "execution_count": 18,
   "id": "44de2d43-7a14-4fbc-a9d8-acb6867f1c56",
   "metadata": {},
   "outputs": [],
   "source": [
    "# save data in a picke file\n",
    "\n",
    "prod_meta_fn = 'proc_prod_meta_data_may22.pkl'\n",
    "\n",
    "with open(prod_meta_fn, 'wb') as fhandle:\n",
    "    pickle.dump(prod_meta_data_list, fhandle, protocol=pickle.HIGHEST_PROTOCOL)"
   ]
  },
  {
   "cell_type": "code",
   "execution_count": 4,
   "id": "e371cfa9-2248-4220-aedd-b77b02c6690e",
   "metadata": {},
   "outputs": [
    {
     "name": "stdout",
     "output_type": "stream",
     "text": [
      " num reviews in the processed data   20980243\n"
     ]
    }
   ],
   "source": [
    "prod_review_list = []\n",
    "\n",
    "with gzip.open('Electronics.json.gz') as fp:\n",
    "    for lp in fp:\n",
    "        row = json.loads(lp.strip())\n",
    "\n",
    "        if ('summary' not in row.keys()) or ('reviewText' not in row.keys()):\n",
    "            continue \n",
    "        if (row['reviewText'] ==\"\") or (row['reviewText'] ==\" \"):\n",
    "            continue\n",
    "        if (row['summary'] ==\"\") or (row['summary'] ==\" \"):\n",
    "            continue\n",
    "        if (row['reviewerID'] ==\"\") or (row['reviewerID'] ==\" \"):\n",
    "            continue\n",
    "        if not isinstance (row['asin'], str):\n",
    "            continue\n",
    "        try:\n",
    "            r_overall = float(row['overall'])\n",
    "        except ValueError:\n",
    "            continue\n",
    "            \n",
    "        review_object = {\n",
    "            'reviewText' : row['reviewText'].replace(\"\\n\", \" \").replace(\"\\t\",\" \"),\n",
    "            'summary' : row ['summary'],\n",
    "            'overall' : r_overall,\n",
    "            'reviewerid' : row ['reviewerID'],\n",
    "            'reviwerName' : row.get('reviewerName', 'GENERIC'),\n",
    "            'productasin' : row['asin']\n",
    "          }  \n",
    "        \n",
    "        prod_review_list.append(review_object)\n",
    "              \n",
    "print (' num reviews in the processed data  ', len(prod_review_list))\n",
    " \n"
   ]
  },
  {
   "cell_type": "code",
   "execution_count": 6,
   "id": "85479605-25f0-4c52-9003-79918b787dcf",
   "metadata": {},
   "outputs": [],
   "source": [
    "import _pickle as cPickle"
   ]
  },
  {
   "cell_type": "code",
   "execution_count": 8,
   "id": "f9e72902-fc41-467f-8456-b8df5f3b4e0b",
   "metadata": {},
   "outputs": [],
   "source": [
    "import _pickle as pickle\n",
    "#import cPickle as pickle\n",
    "prod_review_fn = 'proc_review_data_may22.pkl'\n",
    "p = pickle.Pickler(open(prod_review_fn,\"wb\")) \n",
    "p.fast = True \n",
    "p.dump(prod_review_list) "
   ]
  },
  {
   "cell_type": "code",
   "execution_count": 2,
   "id": "05dc40e5-d835-481c-beca-132c4a3c03b9",
   "metadata": {},
   "outputs": [
    {
     "ename": "NameError",
     "evalue": "name 'prod_review_list' is not defined",
     "output_type": "error",
     "traceback": [
      "\u001b[0;31m---------------------------------------------------------------------------\u001b[0m",
      "\u001b[0;31mNameError\u001b[0m                                 Traceback (most recent call last)",
      "\u001b[0;32m<ipython-input-2-aac4fbcce6e2>\u001b[0m in \u001b[0;36m<module>\u001b[0;34m\u001b[0m\n\u001b[1;32m      3\u001b[0m \u001b[0;34m\u001b[0m\u001b[0m\n\u001b[1;32m      4\u001b[0m \u001b[0;32mwith\u001b[0m \u001b[0mopen\u001b[0m\u001b[0;34m(\u001b[0m\u001b[0mprod_review_fn\u001b[0m\u001b[0;34m,\u001b[0m \u001b[0;34m'wb'\u001b[0m\u001b[0;34m)\u001b[0m \u001b[0;32mas\u001b[0m \u001b[0mfh\u001b[0m\u001b[0;34m:\u001b[0m\u001b[0;34m\u001b[0m\u001b[0;34m\u001b[0m\u001b[0m\n\u001b[0;32m----> 5\u001b[0;31m     \u001b[0mpickle\u001b[0m\u001b[0;34m.\u001b[0m\u001b[0mdump\u001b[0m\u001b[0;34m(\u001b[0m\u001b[0mprod_review_list\u001b[0m\u001b[0;34m,\u001b[0m \u001b[0mfh\u001b[0m\u001b[0;34m)\u001b[0m\u001b[0;34m\u001b[0m\u001b[0;34m\u001b[0m\u001b[0m\n\u001b[0m",
      "\u001b[0;31mNameError\u001b[0m: name 'prod_review_list' is not defined"
     ]
    }
   ],
   "source": [
    "\n",
    "prod_review_fn = 'proc_review_data_may22.pkl'\n",
    "\n",
    "with open(prod_review_fn, 'wb') as fh:\n",
    "    pickle.dump(prod_review_list, fh)"
   ]
  },
  {
   "cell_type": "code",
   "execution_count": null,
   "id": "8651e6d3-4ae6-4cff-ad04-628034f34e0c",
   "metadata": {},
   "outputs": [],
   "source": []
  }
 ],
 "metadata": {
  "kernelspec": {
   "display_name": "Python 3",
   "language": "python",
   "name": "python3"
  },
  "language_info": {
   "codemirror_mode": {
    "name": "ipython",
    "version": 3
   },
   "file_extension": ".py",
   "mimetype": "text/x-python",
   "name": "python",
   "nbconvert_exporter": "python",
   "pygments_lexer": "ipython3",
   "version": "3.6.9"
  }
 },
 "nbformat": 4,
 "nbformat_minor": 5
}
