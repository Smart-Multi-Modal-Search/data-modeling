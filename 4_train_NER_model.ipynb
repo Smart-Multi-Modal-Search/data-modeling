{
 "cells": [
  {
   "cell_type": "markdown",
   "id": "a7cbc3a7-432c-4e4c-b6a9-532341ff5796",
   "metadata": {},
   "source": [
    "Train a model to recognize and tag Product, Brand or Category mentioned in the\n",
    "incoming query. The model is based on spacy package\n",
    "\n",
    "Initially we will recongize only full names. Eventually we can extend to recognize fragments (in addition to full-names)"
   ]
  },
  {
   "cell_type": "code",
   "execution_count": 1,
   "id": "318e2bab-a63c-4f22-8912-c9617424637d",
   "metadata": {},
   "outputs": [],
   "source": [
    "import pickle\n"
   ]
  },
  {
   "cell_type": "code",
   "execution_count": 2,
   "id": "cb80a201-78ed-4d1d-9830-ebb7d08aae4e",
   "metadata": {
    "tags": []
   },
   "outputs": [
    {
     "name": "stdout",
     "output_type": "stream",
     "text": [
      "Defaulting to user installation because normal site-packages is not writeable\n",
      "Requirement already satisfied: pip in /home/sridiyer/.local/lib/python3.6/site-packages (21.3.1)\n",
      "Requirement already satisfied: setuptools in /home/sridiyer/.local/lib/python3.6/site-packages (59.6.0)\n",
      "Requirement already satisfied: wheel in /home/sridiyer/.local/lib/python3.6/site-packages (0.37.1)\n",
      "Note: you may need to restart the kernel to use updated packages.\n"
     ]
    }
   ],
   "source": [
    "pip install -U pip setuptools wheel"
   ]
  },
  {
   "cell_type": "code",
   "execution_count": 3,
   "id": "5de4aeea-d7ad-498b-9a6e-23d8fa5e116d",
   "metadata": {},
   "outputs": [
    {
     "name": "stdout",
     "output_type": "stream",
     "text": [
      "Defaulting to user installation because normal site-packages is not writeable\n",
      "Requirement already satisfied: spacy in /home/sridiyer/.local/lib/python3.6/site-packages (3.3.0)\n",
      "Requirement already satisfied: spacy-legacy<3.1.0,>=3.0.9 in /home/sridiyer/.local/lib/python3.6/site-packages (from spacy) (3.0.9)\n",
      "Requirement already satisfied: preshed<3.1.0,>=3.0.2 in /home/sridiyer/.local/lib/python3.6/site-packages (from spacy) (3.0.6)\n",
      "Requirement already satisfied: requests<3.0.0,>=2.13.0 in /home/sridiyer/.local/lib/python3.6/site-packages (from spacy) (2.27.1)\n",
      "Requirement already satisfied: typing-extensions<4.0.0.0,>=3.7.4 in /home/sridiyer/.local/lib/python3.6/site-packages (from spacy) (3.10.0.2)\n",
      "Requirement already satisfied: pydantic!=1.8,!=1.8.1,<1.9.0,>=1.7.4 in /home/sridiyer/.local/lib/python3.6/site-packages (from spacy) (1.8.2)\n",
      "Requirement already satisfied: packaging>=20.0 in /usr/local/lib/python3.6/dist-packages (from spacy) (21.3)\n",
      "Requirement already satisfied: typer<0.5.0,>=0.3.0 in /home/sridiyer/.local/lib/python3.6/site-packages (from spacy) (0.4.1)\n",
      "Requirement already satisfied: jinja2 in /usr/lib/python3/dist-packages (from spacy) (2.10)\n",
      "Requirement already satisfied: wasabi<1.1.0,>=0.9.1 in /home/sridiyer/.local/lib/python3.6/site-packages (from spacy) (0.9.1)\n",
      "Requirement already satisfied: cymem<2.1.0,>=2.0.2 in /home/sridiyer/.local/lib/python3.6/site-packages (from spacy) (2.0.6)\n",
      "Requirement already satisfied: thinc<8.1.0,>=8.0.14 in /home/sridiyer/.local/lib/python3.6/site-packages (from spacy) (8.0.16)\n",
      "Requirement already satisfied: setuptools in /home/sridiyer/.local/lib/python3.6/site-packages (from spacy) (59.6.0)\n",
      "Requirement already satisfied: numpy>=1.15.0 in /home/sridiyer/.local/lib/python3.6/site-packages (from spacy) (1.19.5)\n",
      "Requirement already satisfied: murmurhash<1.1.0,>=0.28.0 in /home/sridiyer/.local/lib/python3.6/site-packages (from spacy) (1.0.7)\n",
      "Requirement already satisfied: pathy>=0.3.5 in /home/sridiyer/.local/lib/python3.6/site-packages (from spacy) (0.6.1)\n",
      "Requirement already satisfied: blis<0.8.0,>=0.4.0 in /home/sridiyer/.local/lib/python3.6/site-packages (from spacy) (0.7.7)\n",
      "Requirement already satisfied: tqdm<5.0.0,>=4.38.0 in /home/sridiyer/.local/lib/python3.6/site-packages (from spacy) (4.64.0)\n",
      "Requirement already satisfied: catalogue<2.1.0,>=2.0.6 in /home/sridiyer/.local/lib/python3.6/site-packages (from spacy) (2.0.7)\n",
      "Requirement already satisfied: spacy-loggers<2.0.0,>=1.0.0 in /home/sridiyer/.local/lib/python3.6/site-packages (from spacy) (1.0.2)\n",
      "Requirement already satisfied: langcodes<4.0.0,>=3.2.0 in /home/sridiyer/.local/lib/python3.6/site-packages (from spacy) (3.3.0)\n",
      "Requirement already satisfied: srsly<3.0.0,>=2.4.3 in /home/sridiyer/.local/lib/python3.6/site-packages (from spacy) (2.4.3)\n",
      "Requirement already satisfied: zipp>=0.5 in /home/sridiyer/.local/lib/python3.6/site-packages (from catalogue<2.1.0,>=2.0.6->spacy) (3.6.0)\n",
      "Requirement already satisfied: pyparsing!=3.0.5,>=2.0.2 in /usr/local/lib/python3.6/dist-packages (from packaging>=20.0->spacy) (3.0.9)\n",
      "Requirement already satisfied: dataclasses<1.0,>=0.6 in /usr/local/lib/python3.6/dist-packages (from pathy>=0.3.5->spacy) (0.8)\n",
      "Requirement already satisfied: smart-open<6.0.0,>=5.0.0 in /home/sridiyer/.local/lib/python3.6/site-packages (from pathy>=0.3.5->spacy) (5.2.1)\n",
      "Requirement already satisfied: urllib3<1.27,>=1.21.1 in /home/sridiyer/.local/lib/python3.6/site-packages (from requests<3.0.0,>=2.13.0->spacy) (1.26.9)\n",
      "Requirement already satisfied: charset-normalizer~=2.0.0 in /home/sridiyer/.local/lib/python3.6/site-packages (from requests<3.0.0,>=2.13.0->spacy) (2.0.12)\n",
      "Requirement already satisfied: certifi>=2017.4.17 in /home/sridiyer/.local/lib/python3.6/site-packages (from requests<3.0.0,>=2.13.0->spacy) (2022.5.18.1)\n",
      "Requirement already satisfied: idna<4,>=2.5 in /home/sridiyer/.local/lib/python3.6/site-packages (from requests<3.0.0,>=2.13.0->spacy) (3.3)\n",
      "Requirement already satisfied: contextvars<3,>=2.4 in /usr/local/lib/python3.6/dist-packages (from thinc<8.1.0,>=8.0.14->spacy) (2.4)\n",
      "Requirement already satisfied: importlib-resources in /home/sridiyer/.local/lib/python3.6/site-packages (from tqdm<5.0.0,>=4.38.0->spacy) (5.4.0)\n",
      "Requirement already satisfied: click<9.0.0,>=7.1.1 in /home/sridiyer/.local/lib/python3.6/site-packages (from typer<0.5.0,>=0.3.0->spacy) (8.0.4)\n",
      "Requirement already satisfied: importlib-metadata in /usr/local/lib/python3.6/dist-packages (from click<9.0.0,>=7.1.1->typer<0.5.0,>=0.3.0->spacy) (4.8.3)\n",
      "Requirement already satisfied: immutables>=0.9 in /usr/local/lib/python3.6/dist-packages (from contextvars<3,>=2.4->thinc<8.1.0,>=8.0.14->spacy) (0.18)\n",
      "Note: you may need to restart the kernel to use updated packages.\n"
     ]
    }
   ],
   "source": [
    "pip install spacy"
   ]
  },
  {
   "cell_type": "code",
   "execution_count": 4,
   "id": "db094f62-c7f3-4c4e-aa5b-53e5838748b9",
   "metadata": {},
   "outputs": [],
   "source": [
    "# read the files\n",
    "\n",
    "prod_name_fn = 'unique_prod_names_may28.pkl'\n",
    "\n",
    "with open(prod_name_fn, 'rb') as fhandle:\n",
    "    prod_list = list(pickle.load(fhandle))"
   ]
  },
  {
   "cell_type": "code",
   "execution_count": 5,
   "id": "7fce4e72-0cb8-4c77-aa15-c78f9d0457a0",
   "metadata": {},
   "outputs": [],
   "source": [
    "brand_name_fn = 'unique_brand_names_may28.pkl'\n",
    "\n",
    "with open(brand_name_fn, 'rb') as fb:\n",
    "    brand_list = list(pickle.load(fb))"
   ]
  },
  {
   "cell_type": "code",
   "execution_count": 6,
   "id": "24eda2cc-0ccd-4351-8424-9a4c61bf0661",
   "metadata": {},
   "outputs": [],
   "source": [
    "cat_name_fn = 'unique_category_names_may28.pkl'\n",
    "\n",
    "with open(cat_name_fn, 'rb') as fc:\n",
    "    category_list = list(pickle.load(fc))"
   ]
  },
  {
   "cell_type": "code",
   "execution_count": 7,
   "id": "39b1a4d5-912b-42eb-986b-bd87d5a7d28f",
   "metadata": {},
   "outputs": [],
   "source": [
    "# create rule pattern for products in Spacy format\n",
    "\n",
    "pattern_prod_list = []\n",
    "for iprod in prod_list:\n",
    "  prd_list = iprod.split(\" \")\n",
    "  if (len(prd_list) == 1):\n",
    "    pattern_prod_list.append( [{\"TEXT\" : iprod}])\n",
    "  else:\n",
    "    tmp_list = []\n",
    "    for iwrd in prd_list:\n",
    "      tmp_list.append ({\"TEXT\" : iwrd})\n",
    "    pattern_prod_list.append(tmp_list)\n",
    "\n",
    "###\n",
    "prod_patterns = []\n",
    "for x in pattern_prod_list:\n",
    "  prod_patterns.append( {\"label\" : \"PRODUCT\", \"pattern\" : x })"
   ]
  },
  {
   "cell_type": "code",
   "execution_count": 8,
   "id": "90e0e6a9-749d-4cc1-b92d-6b12ce78ecc6",
   "metadata": {},
   "outputs": [],
   "source": [
    "pattern_cat_list = []\n",
    "for iprod in category_list:\n",
    "    # NOTE - copy and paste code\n",
    "    # using prd_list - not calling it cat_list\n",
    "  prd_list = iprod.split(\" \")\n",
    "  if (len(prd_list) == 1):\n",
    "    pattern_cat_list.append( [{\"TEXT\" : iprod}])\n",
    "  else:\n",
    "    tmp_list = []\n",
    "    for iwrd in prd_list:\n",
    "      tmp_list.append ({\"TEXT\" : iwrd})\n",
    "    pattern_cat_list.append(tmp_list)\n",
    "\n",
    "###\n",
    "cat_patterns = []\n",
    "for x in pattern_cat_list:\n",
    "  cat_patterns.append( {\"label\" : \"CATEGORY\", \"pattern\" : x })"
   ]
  },
  {
   "cell_type": "code",
   "execution_count": 9,
   "id": "2705c05e-e533-48ce-91d8-9cf93de0ce49",
   "metadata": {},
   "outputs": [],
   "source": [
    "pattern_brand_list = []\n",
    "for iprod in brand_list:\n",
    "  prd_list = iprod.split(\" \")\n",
    "  if (len(prd_list) == 1):\n",
    "    pattern_brand_list.append( [{\"TEXT\" : iprod}])\n",
    "  else:\n",
    "    tmp_list = []\n",
    "    for iwrd in prd_list:\n",
    "      tmp_list.append ({\"TEXT\" : iwrd})\n",
    "    pattern_brand_list.append(tmp_list)\n",
    "\n",
    "###\n",
    "brand_patterns = []\n",
    "for x in pattern_brand_list:\n",
    "  brand_patterns.append( {\"label\" : \"VENDOR\", \"pattern\" : x })"
   ]
  },
  {
   "cell_type": "code",
   "execution_count": 12,
   "id": "31adec02-5199-4a98-b92b-42de3ec81436",
   "metadata": {},
   "outputs": [
    {
     "name": "stdout",
     "output_type": "stream",
     "text": [
      "CD-R 80 30-Pack\n",
      "Paradigm Cinema Sub\n",
      "Apc Replacement Battery\n",
      "Gn 2100 Surefit\n",
      "Marco EyeCare Cards\n"
     ]
    }
   ],
   "source": [
    "# generating some short query sentences - the prod names are long. looking for\n",
    "# some short names\n",
    "count = 0\n",
    "for i in prod_list:\n",
    "    if (len(i.split(\" \")) < 4):\n",
    "        print (i)\n",
    "        count +=1\n",
    "    if count == 5:\n",
    "        break"
   ]
  },
  {
   "cell_type": "code",
   "execution_count": 13,
   "id": "e41a590f-06b9-4faa-80bf-ef77f5b79f32",
   "metadata": {},
   "outputs": [
    {
     "name": "stdout",
     "output_type": "stream",
     "text": [
      "\n",
      "ORIAN FANS\n",
      "Mitaki-Japan\n",
      "DBTech\n",
      "Proster\n"
     ]
    }
   ],
   "source": [
    "count = 0\n",
    "for i in brand_list:\n",
    "    if (len(i.split(\" \")) < 4):\n",
    "        print (i)\n",
    "        count +=1\n",
    "    if count == 5:\n",
    "        break"
   ]
  },
  {
   "cell_type": "code",
   "execution_count": 14,
   "id": "790b9368-af17-4d73-b31c-ed24d6aedb37",
   "metadata": {},
   "outputs": [
    {
     "name": "stdout",
     "output_type": "stream",
     "text": [
      "Computer Microphones\n",
      "Size 7\n",
      "PDUs\n",
      "Shoulder Bags\n",
      "Material:Cotton hemp\n"
     ]
    }
   ],
   "source": [
    "count = 0\n",
    "for i in category_list:\n",
    "    if (len(i.split(\" \")) < 4):\n",
    "        print (i)\n",
    "        count +=1\n",
    "    if count == 5:\n",
    "        break"
   ]
  },
  {
   "cell_type": "code",
   "execution_count": null,
   "id": "554a947c-37bc-4684-9565-efae658294f0",
   "metadata": {},
   "outputs": [],
   "source": []
  },
  {
   "cell_type": "code",
   "execution_count": 15,
   "id": "69f59f6d-aad6-4563-9e27-6d670b725c69",
   "metadata": {},
   "outputs": [],
   "source": [
    "#import spacy\n",
    "from spacy.lang.en import English\n",
    "\n",
    "nlp = English()\n",
    "ruler = nlp.add_pipe(\"entity_ruler\")\n",
    "ruler.add_patterns(prod_patterns)\n",
    "ruler.add_patterns(brand_patterns) \n",
    "ruler.add_patterns(cat_patterns)"
   ]
  },
  {
   "cell_type": "code",
   "execution_count": 16,
   "id": "5dea9b72-abd1-46a3-a58d-c893fcc00cf9",
   "metadata": {},
   "outputs": [],
   "source": [
    "ruler.to_disk(\"./test1_NER_model_may28.jsonl\")"
   ]
  },
  {
   "cell_type": "markdown",
   "id": "4d615f12-8f89-4513-a7d8-7fbfd6ae2713",
   "metadata": {},
   "source": [
    "Product names are long (we may need to prune the names)\n",
    "\n",
    "Category / Brand seem reasonable"
   ]
  },
  {
   "cell_type": "code",
   "execution_count": 15,
   "id": "1f39db7f-8a43-4674-9258-b9166ac9e888",
   "metadata": {},
   "outputs": [
    {
     "data": {
      "text/plain": [
       "['P46 Digital Pikachu USB Flash Drive 16GB',\n",
       " '2 Pack 18-Inch SATA III 6.0 Gbps Cable with Locking Connectors and 1x 90 Degree Right Angle Connector',\n",
       " 'Audioquest Evergreen Audio Interconnect 1.0m (3 feet 4 inches) 3.5mm to 3.5mm',\n",
       " '100mm Magic Sliders-As Seen On TV (Pack of 3) by Magic Sliders',\n",
       " 'Battery2go - 1 year warranty - 3.6V Battery For Sharp VL-E46, VL-E650U, VL-E620U, VL-E34S, VL-E39S, VL-AH30H, VL-E77U']"
      ]
     },
     "execution_count": 15,
     "metadata": {},
     "output_type": "execute_result"
    }
   ],
   "source": [
    "#NAMES ARE LONG - SHORT names identified in earlier cells \n",
    "# sample product names\n",
    "prod_list [:5]"
   ]
  },
  {
   "cell_type": "code",
   "execution_count": 16,
   "id": "236a0de3-9678-4e34-9713-40a71e2c7e57",
   "metadata": {},
   "outputs": [
    {
     "data": {
      "text/plain": [
       "['',\n",
       " 'Sunydeal',\n",
       " 'COMPUTER DUST SOLUTIONS',\n",
       " 'Automobili Lamborghini',\n",
       " 'Hedgren']"
      ]
     },
     "execution_count": 16,
     "metadata": {},
     "output_type": "execute_result"
    }
   ],
   "source": [
    "brand_list[ :5]"
   ]
  },
  {
   "cell_type": "code",
   "execution_count": 18,
   "id": "a4e20169-d146-4170-8a69-4398b98d497e",
   "metadata": {},
   "outputs": [
    {
     "data": {
      "text/plain": [
       "['Ergonomic shoulder straps and extreme padding makes this lightweight backpack ideal to carry around',\n",
       " 'Made of durable and Eco-Friendly cotton canvas, Safe-100% PVC-Free',\n",
       " 'Multiple zippered pockets for gadgets and belongings',\n",
       " 'Foldable StandUp system enables several viewing typing options',\n",
       " 'Portable Speakers &amp; Docks']"
      ]
     },
     "execution_count": 18,
     "metadata": {},
     "output_type": "execute_result"
    }
   ],
   "source": [
    "category_list[ :5]"
   ]
  },
  {
   "cell_type": "code",
   "execution_count": 22,
   "id": "50b8904b-8743-418d-8789-615954160b63",
   "metadata": {},
   "outputs": [
    {
     "name": "stdout",
     "output_type": "stream",
     "text": [
      "[('Sunydeal', 'VENDOR'), ('Hedgren', 'VENDOR'), ('Portable', 'PRODUCT'), ('Speakers', 'CATEGORY')]\n"
     ]
    }
   ],
   "source": [
    "## test to identify parts\n",
    "sample_query_text = \"I want to buy a Sunydeal Hedgren Portable Speakers &amp; Docks\"\n",
    "doc1 = nlp(sample_query_text)\n",
    "print([(ent.text, ent.label_) for ent in doc1.ents])"
   ]
  },
  {
   "cell_type": "code",
   "execution_count": 23,
   "id": "10270e38-74a5-4ab2-b2eb-6a750eab445e",
   "metadata": {},
   "outputs": [],
   "source": [
    "sample_text2 = \"compare P46 Digital Pikachu USB Flash Drive 16GB with Sunydeal Portable Speakers &amp; Docks\""
   ]
  },
  {
   "cell_type": "code",
   "execution_count": 24,
   "id": "2934c35d-2873-4350-b001-ebb5a1250c56",
   "metadata": {},
   "outputs": [
    {
     "name": "stdout",
     "output_type": "stream",
     "text": [
      "[('P46 Digital', 'VENDOR'), ('USB Flash Drive', 'VENDOR'), ('Sunydeal', 'VENDOR'), ('Portable', 'PRODUCT'), ('Speakers', 'CATEGORY')]\n"
     ]
    }
   ],
   "source": [
    "doc1 = nlp(sample_text2)\n",
    "print([(ent.text, ent.label_) for ent in doc1.ents])"
   ]
  },
  {
   "cell_type": "code",
   "execution_count": null,
   "id": "467d2aca-60bd-4031-8d7c-93f075ddb434",
   "metadata": {},
   "outputs": [],
   "source": [
    "text1 = \"Marco EyeCare Cards from Shoulder Bags and Mitaki-Japan and large size\"\n",
    "text2 = \"Shoulder Bags and Computer Microphones made by Proster and sold as Marco EyeCare Cards\""
   ]
  },
  {
   "cell_type": "code",
   "execution_count": null,
   "id": "c102cf25-33c4-4450-8ab6-5dfbb7c5f5a5",
   "metadata": {},
   "outputs": [],
   "source": []
  },
  {
   "cell_type": "code",
   "execution_count": null,
   "id": "863ee685-600c-4bb0-8ab9-25bcd3b404b2",
   "metadata": {},
   "outputs": [],
   "source": [
    "for x in prod_list:\n",
    "    print (len(x.split(\" \"))\n",
    "    break"
   ]
  },
  {
   "cell_type": "code",
   "execution_count": null,
   "id": "1b23987d-3d26-44a5-8a54-cb7dd1a03760",
   "metadata": {},
   "outputs": [],
   "source": []
  }
 ],
 "metadata": {
  "kernelspec": {
   "display_name": "Python 3",
   "language": "python",
   "name": "python3"
  },
  "language_info": {
   "codemirror_mode": {
    "name": "ipython",
    "version": 3
   },
   "file_extension": ".py",
   "mimetype": "text/x-python",
   "name": "python",
   "nbconvert_exporter": "python",
   "pygments_lexer": "ipython3",
   "version": "3.6.9"
  }
 },
 "nbformat": 4,
 "nbformat_minor": 5
}
